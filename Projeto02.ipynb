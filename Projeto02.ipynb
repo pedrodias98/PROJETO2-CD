{
 "cells": [
  {
   "cell_type": "markdown",
   "metadata": {},
   "source": [
    "# Projeto 2 - Classificador Automático de Sentimento\n",
    "\n",
    "Você foi contratado por uma empresa parar analisar como os clientes estão reagindo a um determinado produto no Twitter. A empresa deseja que você crie um programa que irá analisar as mensagens disponíveis e classificará como \"relevante\" ou \"irrelevante\". Com isso ela deseja que mensagens negativas, que denigrem o nome do produto, ou que mereçam destaque, disparem um foco de atenção da área de marketing.<br /><br />\n",
    "Como aluno de Ciência dos Dados, você lembrou do Teorema de Bayes, mais especificamente do Classificador Naive-Bayes, que é largamente utilizado em filtros anti-spam de e-mails. O classificador permite calcular qual a probabilidade de uma mensagem ser relevante dadas as palavras em seu conteúdo.<br /><br />\n",
    "Para realizar o MVP (*minimum viable product*) do projeto, você precisa implementar uma versão do classificador que \"aprende\" o que é relevante com uma base de treinamento e compara a performance dos resultados com uma base de testes.<br /><br />\n",
    "Após validado, o seu protótipo poderá também capturar e classificar automaticamente as mensagens da plataforma.\n",
    "\n",
    "## Informações do Projeto\n",
    "\n",
    "Prazo: 13/Set até às 23:59.<br />\n",
    "Grupo: 1 ou 2 pessoas.<br /><br />\n",
    "Entregáveis via GitHub: \n",
    "* Arquivo notebook com o código do classificador, seguindo as orientações abaixo.\n",
    "* Arquivo Excel com as bases de treinamento e teste totalmente classificado.\n",
    "\n",
    "**NÃO disponibilizar o arquivo com os *access keys/tokens* do Twitter.**\n",
    "\n",
    "\n",
    "### Check 3: \n",
    "\n",
    "Até o dia 06 de Setembro às 23:59, o notebook e o xlsx devem estar no Github com as seguintes evidências: \n",
    "    * Conta no twitter criada.\n",
    "    * Produto escolhido.\n",
    "    * Arquivo Excel contendo a base de treinamento e teste já classificado.\n",
    "\n",
    "Sugestão de leitura:<br />\n",
    "http://docs.tweepy.org/en/v3.5.0/index.html<br />\n",
    "https://monkeylearn.com/blog/practical-explanation-naive-bayes-classifier/"
   ]
  },
  {
   "cell_type": "markdown",
   "metadata": {},
   "source": [
    "___\n",
    "\n",
    "## Preparando o ambiente\n",
    "\n",
    "Instalando a biblioteca *tweepy* para realizar a conexão com o Twitter:"
   ]
  },
  {
   "cell_type": "code",
   "execution_count": 3,
   "metadata": {
    "collapsed": true
   },
   "outputs": [],
   "source": [
    "%%capture\n",
    "\n",
    "#Instalando o tweepy\n",
    "!pip install tweepy"
   ]
  },
  {
   "cell_type": "markdown",
   "metadata": {},
   "source": [
    "Importando as Bibliotecas que serão utilizadas. Esteja livre para adicionar outras."
   ]
  },
  {
   "cell_type": "code",
   "execution_count": 40,
   "metadata": {
    "collapsed": true
   },
   "outputs": [],
   "source": [
    "import tweepy\n",
    "import math\n",
    "import os.path\n",
    "import pandas as pd\n",
    "import json\n",
    "from random import shuffle"
   ]
  },
  {
   "cell_type": "markdown",
   "metadata": {},
   "source": [
    "___\n",
    "## Autenticando no  Twitter\n",
    "\n",
    "Para realizar a captura dos dados é necessário ter uma conta cadastrada no twitter:\n",
    "\n",
    "* Conta: ***@MongoStrobil***\n",
    "\n",
    "\n",
    "1. Caso ainda não tenha uma: https://twitter.com/signup\n",
    "1. Depois é necessário registrar um app para usar a biblioteca: https://apps.twitter.com/\n",
    "1. Dentro do registro do App, na aba Keys and Access Tokens, anotar os seguintes campos:\n",
    "    1. Consumer Key (API Key): vtqB0NkNxZDKfQrTePLiRyibs\n",
    "    1. Consumer Secret (API Secret): RfaASnTNAEPP8V81PTtKNwLH1SzSpYXuVEiPNZMEjnu1CoOvtE\n",
    "1. Mais abaixo, gere um Token e anote também:\n",
    "    1. Access Token: 905108217595822080GaArhSqsnTiHg0BEjJbnRdnDebVi7qx\n",
    "    1. Access Token Secret: ED7G6dt1dqHvxNgxrf5J9yFuUBoGiQ5cYNwoScFfiCe3b\n",
    "    \n",
    "1. Preencha os valores no arquivo \"auth.pass\"\n",
    "\n",
    "**ATENÇÃO**: Nunca divulgue os dados desse arquivo online (GitHub, etc). Ele contém as chaves necessárias para realizar as operações no twitter de forma automática e portanto é equivalente a ser \"hackeado\". De posse desses dados, pessoas mal intencionadas podem fazer todas as operações manuais (tweetar, seguir, bloquear/desbloquear, listar os seguidores, etc). Para efeito do projeto, esse arquivo não precisa ser entregue!!!"
   ]
  },
  {
   "cell_type": "code",
   "execution_count": 5,
   "metadata": {
    "collapsed": true
   },
   "outputs": [],
   "source": [
    "#Dados de autenticação do twitter:\n",
    "\n",
    "#Coloque aqui o identificador da conta no twitter: @fulano\n",
    "\n",
    "#leitura do arquivo no formato JSON\n",
    "with open('auth.pass') as fp:    \n",
    "    data = json.load(fp)\n",
    "\n",
    "#Configurando a biblioteca. Não modificar\n",
    "auth = tweepy.OAuthHandler(data['consumer_key'], data['consumer_secret'])\n",
    "auth.set_access_token(data['access_token'], data['access_token_secret'])"
   ]
  },
  {
   "cell_type": "markdown",
   "metadata": {},
   "source": [
    "___\n",
    "## Coletando Dados\n",
    "\n",
    "Agora vamos coletar os dados. Tenha em mente que dependendo do produto escolhido, não haverá uma quantidade significativa de mensagens, ou ainda poder haver muitos retweets.<br /><br /> \n",
    "Configurando:"
   ]
  },
  {
   "cell_type": "code",
   "execution_count": 6,
   "metadata": {
    "collapsed": true
   },
   "outputs": [],
   "source": [
    "#Produto escolhido:\n",
    "produto = 'Got'\n",
    "\n",
    "#Quantidade mínima de mensagens capturadas:\n",
    "n = 500\n",
    "#Quantidade mínima de mensagens para a base de treinamento:\n",
    "t = 300\n",
    "\n",
    "#Filtro de língua, escolha uma na tabela ISO 639-1.\n",
    "lang = 'pt'"
   ]
  },
  {
   "cell_type": "markdown",
   "metadata": {},
   "source": [
    "Capturando os dados do twitter:"
   ]
  },
  {
   "cell_type": "code",
   "execution_count": 7,
   "metadata": {
    "collapsed": true
   },
   "outputs": [],
   "source": [
    "#Cria um objeto para a captura\n",
    "api = tweepy.API(auth)\n",
    "\n",
    "#Inicia a captura, para mais detalhes: ver a documentação do tweepy\n",
    "i = 1\n",
    "msgs = []\n",
    "for msg in tweepy.Cursor(api.search, q=produto, lang=lang).items():    \n",
    "    msgs.append(msg.text.lower())\n",
    "    i += 1\n",
    "    if i > n:\n",
    "        break\n",
    "\n",
    "#Embaralhando as mensagens para reduzir um possível viés\n",
    "shuffle(msgs)"
   ]
  },
  {
   "cell_type": "markdown",
   "metadata": {},
   "source": [
    "Salvando os dados em uma planilha Excel:"
   ]
  },
  {
   "cell_type": "code",
   "execution_count": 8,
   "metadata": {
    "collapsed": true
   },
   "outputs": [],
   "source": [
    "#Verifica se o arquivo não existe para não substituir um conjunto pronto\n",
    "if not os.path.isfile('./{0}.xlsx'.format(produto)):\n",
    "    \n",
    "    #Abre o arquivo para escrita\n",
    "    writer = pd.ExcelWriter('{0}.xlsx'.format(produto))\n",
    "\n",
    "    #divide o conjunto de mensagens em duas planilhas\n",
    "    dft = pd.DataFrame({'Treinamento' : pd.Series(msgs[:t])})\n",
    "    dft.to_excel(excel_writer = writer, sheet_name = 'Treinamento', index = False)\n",
    "\n",
    "    dfc = pd.DataFrame({'Teste' : pd.Series(msgs[t:])})\n",
    "    dfc.to_excel(excel_writer = writer, sheet_name = 'Teste', index = False)\n",
    "\n",
    "    #fecha o arquivo\n",
    "    writer.save()"
   ]
  },
  {
   "cell_type": "code",
   "execution_count": 12,
   "metadata": {
    "collapsed": true
   },
   "outputs": [],
   "source": [
    "Got = pd.read_excel(\"Game of Thrones.xlsx\", encode=\"UTF-8\")"
   ]
  },
  {
   "cell_type": "markdown",
   "metadata": {},
   "source": [
    "___\n",
    "## Classificando as Mensagens\n",
    "\n",
    "Agora você deve abrir o arquivo Excel com as mensagens capturadas e classificar na Coluna B se a mensagem é relevante ou não.<br /> \n",
    "Não se esqueça de colocar um nome para a coluna na célula **B1**.<br /><br />\n",
    "Fazer o mesmo na planilha de Controle.\n",
    "\n",
    "___\n",
    "## Montando o Classificador Naive-Bayes\n",
    "\n",
    "Com a base de treinamento montada, comece a desenvolver o classificador. Escreva o seu código abaixo:\n",
    "\n",
    "Opcionalmente: \n",
    "* Limpar as mensagens removendo os caracteres: enter, :, \", ', (, ), etc. Não remover emojis.<br />\n",
    "* Corrigir separação de espaços entre palavras e/ou emojis.\n",
    "* Propor outras limpezas/transformações que não afetem a qualidade da informação.\n",
    "\n"
   ]
  },
  {
   "cell_type": "code",
   "execution_count": 17,
   "metadata": {},
   "outputs": [],
   "source": [
    "for e in range(0,300):\n",
    "    sub = Got.Treinamento[e]\n",
    "    sub = sub.replace(\"\\n\", ' ')\n",
    "    sub = sub.replace(\":\", ' ')\n",
    "    sub = sub.replace('\"', ' ')\n",
    "    sub = sub.replace(\"'\", ' ')\n",
    "    sub = sub.replace('(', ' ')\n",
    "    sub = sub.replace(')', ' ')\n",
    "    sub = sub.replace(',', ' ')\n",
    "    sub = sub.replace('+', ' ')\n",
    "    sub = sub.replace('/', ' ')\n",
    "    sub = sub.replace('-', ' ')\n",
    "    sub = sub.replace('@', ' ')\n",
    "    sub = sub.replace('!', ' ')\n",
    "    sub = sub.replace('?', ' ')\n",
    "    sub = sub.replace('#', ' ')\n",
    "    sub = sub.split()\n",
    "    sub = \" \".join(sub)\n",
    "    Got.Treinamento[e] = sub"
   ]
  },
  {
   "cell_type": "code",
   "execution_count": 63,
   "metadata": {},
   "outputs": [
    {
     "name": "stdout",
     "output_type": "stream",
     "text": [
      "[['rt', 'marciorcm', 'gostei', 'de', 'um', 'vídeo', 'youtube', 'https', 't.co', 'wu5y0mmuef', 'dos', 'starks', 'e', 'seus', 'significados', 'game', 'of', 'thrones', 'explicado'], ['gente', 'cenários', 'reais', 'de', 'game', 'of', 'thrones', 'que', 'você', 'pode', 'visitar', 'https', 't.co', '25hlllqvsy', 'via', 'shutterstockpt'], ['5', 'séries', 'da', 'hbo', 'para', 'você', 'ver', 'antes', 'do', 'retorno', 'de', 'game', 'of', 'thrones', 'https', 't.co', 'rxf8kkrh1r', 'https', 't.co', 'uc6rhrogji'], ['rt', 'marciorcm', 'gostei', 'de', 'um', 'vídeo', 'youtube', 'https', 't.co', 'qnnodh7eog', 'da', 'genética', 'nas', 'famílias', 'de', 'game', 'of', 'thrones', 'stark', 'e', 'targaryen'], ['eu', 'nao', 'consigo', 'comer', 'e', 'ver', 'game', 'of', 'thrones', 'ao', 'mesmo', 'tempo'], ['rt', 'gfiuza_oficial', 'game', 'of', 'thrones', 'acabou', 'mas', 'toda', 'semana', 'temos', 'ana', 'paula', 'destronando', 'geral', 'os', 'canastrões.', 'https', 't.co', 'rclo6valxp'], ['rt', 'poeticou', 'o', 'riso', 'é', 'um', 'veneno', 'para', 'o', 'medo.', '—', 'game', 'of', 'thrones'], ['nao', 'acredito', 'que', 'vou', 'dizer', 'isto', 'vou', 'começar', 'a', 'ver', 'game', 'of', 'thrones'], ['omelete', 'daenerys', 'poderá', 'engravidar', 'de', 'novo', 'ou', 'não', 'em', 'game', 'of', 'thrones', 'https', 't.co', 'rywnr7m7lh', 'https', 't.co', '9ewzq7yqe2', 'timbeta', 'betaajud…'], ['até', 'o', 'professor', 'de', 'arquitetura', 'de', 'computadores', 'me', 'lembrando', 'que', 'game', 'of', 'thrones', 'acabou.', 'o', 'sofrimento', 'vai', 'durar', 'até', '2019'], ['mano', 'tem', 'um', 'ator', 'de', 'game', 'of', 'thrones', 'q', 'é', 'de', 'ribeirão', 'preto', 'lol'], ['rt', 'papelpop', 'essa', 'vovó', 'vestida', 'de', 'olenna', 'tyrell', 'é', 'a', 'melhor', 'cosplay', 'de', '“game', 'of', 'thrones”', 'https', 't.co', 'jibs14ljn0', 'https', 't.co', '6sae6uwkgy'], ['gostei', 'de', 'um', 'vídeo', 'youtube', 'https', 't.co', 'gv3zpywhobétima', 'temporada', 'de', 'game', 'of', 'thrones', '|', 'live', 'mikarol', 'ft', 'flávia', 'gasi'], ['gostei', 'de', 'um', 'vídeo', 'youtube', 'https', 't.co', 'bys9vslx17étima', 'temporada', 'de', 'game', 'of', 'thrones', '|', 'live', 'mikarol', 'ft', 'flávia', 'gasi'], ['rt', 'escorpiao165', '“não', 'podemos', 'escolher', 'quem', 'amamos.”', '—', 'game', 'of', 'thrones'], ['rt', 'papofuradopod', 'e', 'que', 'tal', 'tomar', 'um', 'café', 'da', 'manhã', 'ouvindo', 'as', 'teorias', 'mais', 'loucas', 'sobre', 'game', 'of', 'thrones', 'afinal', 'de', 'quem', 'os', 'white', 'walkers…'], ['gostei', 'de', 'um', 'vídeo', 'youtube', 'https', 't.co', 'vvstg2uwsjétima', 'temporada', 'de', 'game', 'of', 'thrones', '|', 'live', 'mikarol', 'ft', 'flávia', 'gasi'], ['marquei', 'como', 'visto', 'game', 'of', 'thrones', '2x10', 'valar', 'morghulis', 'https', 't.co', 'qg4wbwiinl', 'bancodeseries'], ['eu', 'assistindo', 'o', 'dia', 'todo', 'vídeos', 'de', '30', 'minutos', 'sobre', 'teorias', 'de', 'game', 'of', 'thrones', 'eu', 'fico', 'de', 'boas', 'mas', 'assistir', 'uma', 'live', 'de', '2h', 'foi', 'louco'], ['rachel_azeredo', 'admiro', 'mtoooo', 'todo', 'o', 'mundo', 'q', 'o', 'tolkien', 'criou', 'mas', 'a', 'leitura', 'não', 'fluiu...', 'agora', 'tô', 'lendo', 'game', 'of', 'thr…', 'https', 't.co', 'rzsmoyigma'], ['ri', 'de', 'mais', 'com', 'o', 'nerdcast', 'game', 'of', 'thrones', 'da', '7a', 'temporada', 'kkjkkkkkkkkkkk'], ['quem', 'é', 'você', 'no', 'game', 'of', 'thrones', 'https', 't.co', 'fajfpduxhh'], ['gostei', 'de', 'um', 'vídeo', 'youtube', 'https', 't.co', '7dkvrncy0oétima', 'temporada', 'de', 'game', 'of', 'thrones', '|', 'live', 'mikarol', 'ft', 'flávia', 'gasi'], ['vídeo', 'traz', 'mais', 'detalhes', 'dos', 'efeitos', 'visuais', 'na', '7ª', 'temporada', 'de', '‘game', 'of', 'thrones’', 'https', 't.co', 'qjcvn1cwws', 'rt', 'sdv', 'tfb'], ['a', 'quinta', 'temporada', 'de', 'game', 'of', 'thrones', 'acabou', 'com', 'a', 'minha', 'sanidade', 'mental'], ['rt', 'allef_alianca', 'hoje', 'tô', 'só', 'bran', 'de', 'game', 'of', 'thrones', 'arrastada'], ['se', 'você', 'tivesse', 'que', 'escolher', 'a', 'cena', 'mais', 'triste', 'de', 'game', 'of', 'thrones', 'a', 'que', 'doeu', 'mais', 'e', 'te', 'fez', 'ficar', 'mal', 'qual', 'seria'], ['geekmigus', '10', 'coisas', 'que', 'você', 'precisa', 'saber', 'sobre', 'o', 'corvo', 'de', 'três', 'olhos', 'de', 'game', 'of', 'thrones', 'https', 't.co', 'kytgowgzev', 'https', 't.co', '7sy74gadvj'], ['estrela', 'de', 'https', 't.co', 'p9eqlwfnai'], ['gostei', 'de', 'um', 'vídeo', 'youtube', 'https', 't.co', 'gau4kba5hpétima', 'temporada', 'de', 'game', 'of', 'thrones', '|', 'live', 'mikarol', 'ft', 'flávia', 'gasi'], ['ilustraciones', 'de', 'tarrusov', 'al', 'estilo', 'de', 'tim', 'burton', 'sobre', 'juegodetronos', 'https', 't.co', '8os4jqr5fg', 'https', 't.co', 'dgnbski7m6'], ['rt', 'omelete', 'daenerys', 'poderá', 'engravidar', 'de', 'novo', 'ou', 'não', 'em', 'game', 'of', 'thrones', 'https', 't.co', '77loehdkbh', 'https', 't.co', 'i9trhvdlzt'], ['gostei', 'de', 'um', 'vídeo', 'youtube', 'https', 't.co', '1qqorhgvmhétima', 'temporada', 'de', 'game', 'of', 'thrones', '|', 'live', 'mikarol', 'ft', 'flávia', 'gasi'], ['vamo', 'começar', 'de', 'novo', 'game', 'of', 'thrones', 'pra', 'esquecer', 'desse', 'desastre', 'de', 'simulado'], ['gostei', 'de', 'um', 'vídeo', 'do', 'youtube', 'https', 't.co', 's3lytxmfps', 'game', 'of', 'thrones', 'episode', '7x07', 'jon', 'snow', 's', 'real', 'name', 'is', 'revealed'], ['sentimento', 'é', 'de', 'caralho', 'eu', 'amo', 'mt', 'game', 'of', 'thrones', 'letsuchoa', 'gadelhalorena_', 'talktomepat', 'bruttrigueiro', 'tavares_victor'], ['descubra', 'o', 'que', 'dizia', 'a', 'carta', 'de', 'jon', 'snow', 'para', 'sansa', 'em', 'game', 'of', 'thrones', 'https', 't.co', '4q9uz0twyh'], ['gostei', 'de', 'um', 'vídeo', 'youtube', 'https', 't.co', 'qg4wrlmwtyétima', 'temporada', 'de', 'game', 'of', 'thrones', '|', 'live', 'mikarol', 'ft', 'flávia', 'gasi'], ['hoje', 'ela', 'está', 'tentando', 'aprender', 'o', 'tema', 'de', 'abertura', 'de', 'game', 'of', 'thrones', '.', 'bateu', 'uma', 'tristeza', 'que', 'a', 'série', 'só', 'volta', 'em', '2019.'], ['ele', 'ganhou', '4', 'copinhos', 'q', 'parece', 'aqueles', 'de', 'pinga', 'do', 'game', 'of', 'thrones', 'q', 'veio', 'de', 'lá', 'tb', 'pense', 'numa', 'pessoa', 'feliz'], ['rt', 'queridojeito', 'a', 'mente', 'precisa', 'de', 'livros', 'como', 'uma', 'espada', 'precisa', 'de', 'uma', 'pedra', 'de', 'amolar', 'para', 'manter', 'a', 'sua', 'vantagem.', '—', 'game', 'of', 'thrones'], ['eu', 'realmente', 'to', 'vendo', 'uma', 'temp', 'inteira', 'de', 'game', 'of', 'thrones', 'a', 'cada', '2', 'dias'], ['gostei', 'de', 'um', 'vídeo', 'youtube', 'https', 't.co', 'juicnqbgni', 'trono', 'de', 'ferro', '♥game', 'of', 'thrones♥', 'iron', 'throne'], ['sétima', 'temporada', 'de', 'game', 'of', 'thrones', '|', 'live', 'mikarol', 'ft', 'flávia', 'gasi', 'video', '&gt;', 'https', 't.co', 'rmgtwsnx7c', 'https', 't.co', 'tfwavkp2ws'], ['ineizzz', 'game', 'of', 'thrones', 'é', 'uma', 'boa', 'série.'], ['dei', 'rt', 'nesse', 'tweet', 'semana', 'passada', 'e', 'to', 'fazendo', 'oq', 'assistindo', 'game', 'of', 'thrones', 'https', 't.co', 'nnkqgijjwv'], ['gostei', 'de', 'um', 'vídeo', 'youtube', 'https', 't.co', 'ijnaqh3hjsétima', 'temporada', 'de', 'game', 'of', 'thrones', '|', 'live', 'mikarol', 'ft', 'flávia', 'gasi'], ['“não', 'podemos', 'escolher', 'quem', 'amamos.”', '—', 'game', 'of', 'thrones'], ['“não', 'podemos', 'escolher', 'quem', 'amamos.”', '—', 'game', 'of', 'thrones'], ['gostei', 'de', 'um', 'vídeo', 'youtube', 'https', 't.co', 'xkeegenwsrétima', 'temporada', 'de', 'game', 'of', 'thrones', '|', 'live', 'mikarol', 'ft', 'flávia', 'gasi'], ['acabei', 'narcos', 'acabei', 'game', 'of', 'thrones', 'acabei', 'lúcifer', '.', 'preciso', 'de', 'séries', 'muitas', 'séries'], ['rt', 'odisseia_site', 'essa', 'foi', 'a', 'melhor', 'ou', 'a', 'pior', 'temporada', 'de', 'game', 'of', 'thrones', 'confira', 'nosso', 'texto', 'e', 'deixe', 'sua', 'opinião', 'aqui', 'https', 't.co', 'xq…'], ['vc', 'não', 'assiste', 'game', 'of', 'thrones', 'tananam', 'tananan', 'tananammmmmm', 'kkkk', 'shameeeeee', 'https', 't.co', 'szr2y10dpv'], ['game', 'of', 'thrones', 'é', 'a', 'única', 'coisa', 'q', 'me', 'deixa', 'feliz'], ['queria', 'dizer', 'q', 'juntamente', 'com', 'o', 'meu', 'namorado', 'estamos', 'viciados', 'em', 'game', 'of', 'thrones', 'e', 'estamos', 'na', 'segunda', 'temporada', 'não', 'nos', 'julguem'], ['game', 'of', 'thrones', 'tá', 'cada', 'vez', 'melhor'], ['gostei', 'de', 'um', 'vídeo', 'youtube', 'https', 't.co', 'nrhl7p0wdz', 'walker', 'game', 'of', 'thrones', '[official', 'video]'], ['tô', 'na', 'parte', 'do', 'game', 'of', 'thrones', 'livro', 'que', 'rola', 'aquele', 'diálogo', 'entre', 'o', 'ned', 'e', 'a', 'cersei', 'claramente', 'ela', 'é', 'a', 'mulher', 'mais', 'foda', 'da', 'série'], ['gostei', 'de', 'um', 'vídeo', 'youtube', 'https', 't.co', '8bx3u4l7heétima', 'temporada', 'de', 'game', 'of', 'thrones', '|', 'live', 'mikarol', 'ft', 'flávia', 'gasi'], ['gostei', 'de', 'um', 'vídeo', 'youtube', 'https', 't.co', 'xwfm0r4jyqétima', 'temporada', 'de', 'game', 'of', 'thrones', '|', 'live', 'mikarol', 'ft', 'flávia', 'gasi'], ['gostei', 'de', 'um', 'vídeo', 'youtube', 'https', 't.co', 'dkmv8u1nre', 'game', 'of', 'thrones', '[official', 'video]'], ['vou', 'começar', 'a', 'ver', 'game', 'of', 'thrones'], ['rt', 'chevettinho81', 'virilia*', 'deve', 'ser', 'alguma', 'coisa', 'de', 'game', 'of', 'thrones', 'https', 't.co', 'zul94o1gta'], ['rt', 'revistamonet', 'senhora', 'de', '85', 'anos', 'faz', 'cosplay', 'inusitado', 'de', 'game', 'of', 'thrones', 'em', 'cadeira', 'de', 'rodas', 'e', 'faz', 'sucesso', 'na', 'web', 'https', 't.co', 'lhptl…'], ['gostei', 'de', 'um', 'vídeo', 'youtube', 'https', 't.co', '4uboefr1aw', 'está', 'tramando', 'contra', 'nós', '|', 'game', 'of', 'thrones', 'telltale', '20|', 'gameplay', 'pt', 'br'], ['gostei', 'de', 'um', 'vídeo', 'youtube', 'https', 't.co', 'rvdeqj6tsaétima', 'temporada', 'de', 'game', 'of', 'thrones', '|', 'live', 'mikarol', 'ft', 'flávia', 'gasi'], ['rt', 'plmattoss', 'me', 'desculpem', 'as', 'outras', 'mas', 'game', 'of', 'thrones', 'é', 'a', 'melhor', 'série', 'do', 'mundo'], ['rt', 'escorpiao165', '“não', 'podemos', 'escolher', 'quem', 'amamos.”', '—', 'game', 'of', 'thrones'], ['o', 'técnico', 'da', 'internet', 'conversando', 'comigo', 'sobre', 'game', 'of', 'thrones', 'foi', 'a', 'melhor', 'coisa', 'que', 'me', 'aconteceu', 'hoje', 'até', 'agora'], ['rt', 'escorpiao165', '“não', 'podemos', 'escolher', 'quem', 'amamos.”', '—', 'game', 'of', 'thrones'], ['vou', 'começar', 'a', 'assistir', 'game', 'of', 'thrones.', 'será'], ['rt', 'escorpiao165', '“não', 'podemos', 'escolher', 'quem', 'amamos.”', '—', 'game', 'of', 'thrones'], ['no', 'momento', 'eu', 'só', 'queria', 'estar', 'assistindo', 'a', 'próxima', 'temporada', 'de', 'game', 'of', 'thrones'], ['rt', 'patriciakogut', 'game', 'of', 'thrones', 'o', 'luto', 'mais', 'prolongado', 'da', 'história', 'da', 'tv', 'https', 't.co', '7fhsylxgm1', 'https', 't.co', 'eyss49ujxx'], ['rt', 'poeticou', 'o', 'riso', 'é', 'um', 'veneno', 'para', 'o', 'medo.', '—', 'game', 'of', 'thrones'], ['quero', 'mesmo', 'muito', 'muito', 'uma', 'sweat', 'de', 'game', 'of', 'thrones', 'só', 'ia', 'ser', 'uma', 'pessoa', 'mais', 'feliz', 'se', 'alguém', 'me', 'desse', 'uma'], ['onde', 'ver', 'os', 'atores', 'de', 'game', 'of', 'thrones', 'até', 'a', 'próxima', 'temporada', 'https', 't.co', 'xruownyplp'], ['rt', 'yuripeixoto', 'loadcomics', 'manda', 'pra', 'ele', 'parágrafos', 'aleatórios', 'de', 'game', 'of', 'thrones.'], ['tô', 'viciada', 'em', 'game', 'of', 'thrones', 'é', 'muito', 'bom'], ['quem', 'é', 'você', 'no', 'game', 'of', 'thrones', 'https', 't.co', 'qguiuiulla'], ['e', 'vcs', 'aí', 'achando', 'que', 'a', 'galera', 'que', 'assiste', 'game', 'of', 'thrones', 'manja', 'dos', 'spoilers....', 'https', 't.co', 'lp9k9ezgtu'], ['rt', 'patriciakogut', 'game', 'of', 'thrones', 'o', 'luto', 'mais', 'prolongado', 'da', 'história', 'da', 'tv', 'https', 't.co', '7fhsylxgm1', 'https', 't.co', 'eyss49ujxx'], ['sétima', 'temporada', 'de', 'game', 'of', 'thrones', '|', 'live', 'mikarol', 'ft', 'flávia', 'gasi', 'https', 't.co', 'c5bkwo3ujb', 'notícias', 'video', 'https', 't.co', 'ymc7r06ilx'], ['rt', 'guilherming', 'quando', 'descobres', 'que', 'game', 'of', 'thrones', 'só', 'volta', 'em', '2019.', 'https', 't.co', 'g7deoutmfd'], ['15', 'imagens', 'que', 'provam', 'que', 'game', 'of', 'thrones', 'seria', 'um', 'excelente', 'anime', 'https', 't.co', '2yshqtqq4g', 'https', 't.co', 'vnl3fsfecs'], ['i', 'liked', 'a', 'youtube', 'video', 'https', 't.co', '2rokakxpme', 'sétima', 'temporada', 'de', 'game', 'of', 'thrones', '|', 'live', 'mikarol', 'ft', 'flávia', 'gasi'], ['série', '»', '7ª', 'temporada', 'de', 'gameofthrones’', 'dá', 'aos', 'fãs', 'exatamente', 'o', 'que', 'eles', 'querem', 'gots7', 'https', 't.co', 'f7pcljvj6d', 'https', 't.co', 'ygtt8vr2ev'], ['ges_onel', 'agora', 'eu', 'entendi', 'porque', 'você', 'fala', 'que', 'o', 'carinha', 'do', 'clipe', 'the', 'greatest', 'é', 'de', 'game', 'of', 'thrones'], ['rt', 'escorpiao165', '“não', 'podemos', 'escolher', 'quem', 'amamos.”', '—', 'game', 'of', 'thrones'], ['game', 'of', 'thrones', 'entenda', 'as', 'diferenças', 'entre', 'a', 'série', 'e', 'os', 'livros', 'https', 't.co', 'qq8jrmammd', 'https', 't.co', 'swxs5ydefu'], ['rt', 'escorpiao165', '“não', 'podemos', 'escolher', 'quem', 'amamos.”', '—', 'game', 'of', 'thrones'], ['gostei', 'de', 'um', 'vídeo', 'youtube', 'https', 't.co', 'rpkmszrlfr]', 'o', 'julgamento', 'de', 'game', 'of', 'thrones', 'ft.', 'ricardorente'], ['meu', 'cérebro', 'ta', 'tão', 'dominado', 'por', 'game', 'of', 'thrones', 'que', 'to', 'estudando', 'parasitologia', 'e', 'li', 'lannister', 'ao', 'invés', 'de', 'leishmaniose'], ['rt', 'famebowie', 'queria', 'assistir', 'game', 'of', 'thrones', 'mas', 'eu', 'sou', 'lerdo', 'demais', 'pra', 'uma', 'série', 'tão', 'complexa', 'eu', 'preciso', 'assistir', 'com', 'alguém', 'menos', 'le…'], ['rt', 'seriemaniacos', 'a', 'lostização', 'de', 'game', 'of', 'thrones', 'https', 't.co', 'nt05p63fxx', 'https', 't.co', 'ymcru74skx'], ['rt', 'phsantos', 'game', 'of', 'thrones', 'há', 'vida', 'além', 'da', 'série', 'https', 't.co', '7tsshltl7y'], ['hoje', 'tô', 'só', 'bran', 'de', 'game', 'of', 'thrones', 'arrastada'], ['gostei', 'de', 'um', 'vídeo', 'youtube', 'https', 't.co', '8d7h1jo9mbétima', 'temporada', 'de', 'game', 'of', 'thrones', '|', 'live', 'mikarol', 'ft', 'flávia', 'gasi'], ['gostei', 'de', 'um', 'vídeo', 'youtube', 'https', 't.co', 'vimgnqnqb1étima', 'temporada', 'de', 'game', 'of', 'thrones', '|', 'live', 'mikarol', 'ft', 'flávia', 'gasi'], ['rt', 'omelete', 'daenerys', 'poderá', 'engravidar', 'de', 'novo', 'ou', 'não', 'em', 'game', 'of', 'thrones', 'https', 't.co', '77loehdkbh', 'https', 't.co', 'i9trhvdlzt'], ['rt', 'marciorcm', 'gostei', 'de', 'um', 'vídeo', 'youtube', 'https', 't.co', '8dbs1xxnpz', 'arya', 'stark', 'é', 'o', 'valonqar', '|', 'game', 'of', 'thrones'], ['e', 'que', 'tal', 'tomar', 'um', 'café', 'da', 'manhã', 'ouvindo', 'as', 'teorias', 'mais', 'loucas', 'sobre', 'game', 'of', 'thrones', 'afinal', 'de', 'quem', 'os', 'white', 'wal…', 'https', 't.co', 'syuu05nskt'], ['o', 'inverno', 'chegou', 'em', 'definitivo', 'ao', 'ccg', 'da', 'blizzard', 'hearthstone.', 'por', 'hugohrosa', 'https', 't.co', 'akcenrjhet'], ['gostei', 'de', 'um', 'vídeo', 'youtube', 'https', 't.co', 'qerv1lbpfrétima', 'temporada', 'de', 'game', 'of', 'thrones', '|', 'live', 'mikarol', 'ft', 'flávia', 'gasi'], ['game', 'of', 'thrones', 'está', 'nas', 'trends', 'tipo', 'à', '3', 'dias', 'e', 'não', 'sai', 'de', 'lá'], ['gostei', 'de', 'um', 'vídeo', 'do', 'youtube', 'https', 't.co', 'ckhklx2jkj', 'game', 'of', 'thrones', '6x01', 'daenerys', 'is', 'brought', 'to', 'khal', 'moro'], ['game', 'of', 'thrones', 'é', 'sensacional', 'vsf'], ['alguém', 'me', 'ensina', 'a', 'baixar', 'game', 'of', 'thrones', 'eu', 'quero', 'assistir', 'só', 'assisti', 'até', 'o', 'ep', '2', 'da', 'segunda', 'temporada', 'mas', 'sou', 'mt', 'tansa', 'e', 'n', 'sei', 'baixar'], ['rt', 'tarjanerd', 'ainda', 'não', 'escutou', 'o', 'nosso', 'cast', 'sobre', 'got', 'não', 'perca', 'tempo', 'tarjacast', '51', 'game', 'of', 'thrones', 'épico', 'ou', 'novela', 'https', 't.co', '7…'], ['duas', 'semanas', 'sem', 'ep', 'novo', 'de', 'game', 'of', 'thrones', 'eu', 'sofro', 'pfvr', 'devolvam', 'meu', 'got'], ['rt', 'escorpiao165', '“não', 'podemos', 'escolher', 'quem', 'amamos.”', '—', 'game', 'of', 'thrones'], ['meu', 'deus', 'game', 'of', 'thrones', 'é', 'demais', 'cara', 'como', 'pode'], ['rt', 'escorpiao165', '“não', 'podemos', 'escolher', 'quem', 'amamos.”', '—', 'game', 'of', 'thrones'], ['gostei', 'de', 'um', 'vídeo', 'youtube', 'https', 't.co', '2wlatgt9eb', 'game', 'of', 'thrones', 'season', 'finale', 'ft.', 'maddu', 'magalhães'], ['gostei', 'de', 'um', 'vídeo', 'youtube', 'https', 't.co', 'vwdtmbliwcétima', 'temporada', 'de', 'game', 'of', 'thrones', '|', 'live', 'mikarol', 'ft', 'flávia', 'gasi'], ['game', 'of', 'thrones', '–', 'vídeo', 'apresenta', 'os', 'efeitos', 'especiais', 'da', 'sétima', 'temporada', '👇🏻', 'assista', 'vale', 'muito', 'a', 'pena', '…', 'https', 't.co', 'ivofltedfa'], ['game', 'of', 'thrones', 'telltale', 'episódio', '6', 'bosque', 'do', 'norte', 'traição', 'e', 'o', 'final', 'padrão', 'game', 'of', 'thrones', 'https', 't.co', 'plde3xb73y', 'via'], ['gostava', 'de', 'começar', 'a', 'ver', 'game', 'of', 'thrones', 'por', 'mais', 'que', 'eu', 'tenha', 'dito', 'que', 'odiei', 'aquilo', 'mas', 'sinto', 'q', 'ao', 'início', 'é', 'q', 'é', 'uma', 'bosta', 'e', 'dps', 'melhora', 'mt'], ['caralho', 'game', 'of', 'thrones', 'e', 'muito', 'bom', 'bicho'], ['rt', 'escorpiao165', '“não', 'podemos', 'escolher', 'quem', 'amamos.”', '—', 'game', 'of', 'thrones'], ['gostei', 'de', 'um', 'vídeo', 'do', 'youtube', 'https', 't.co', 'uzpi4mkwnt', 'game', 'of', 'thrones', 's03e01', 'jon', 'meets', 'mance', 'rayder'], ['gostei', 'de', 'um', 'vídeo', 'youtube', 'https', 't.co', 'qvhsu22v6k]', 'o', 'julgamento', 'de', 'game', 'of', 'thrones', 'ft.', 'ricardorente'], ['carta', 'aberta', 'a', 'realdonaldtrump', 'e', 'kim', 'jong', 'un', 'por', 'favor', 'só', 'comecem', 'a', '3ª', 'guerra', 'mundial', 'após', 'a', 'exibição', 'da', '8ª', 'temporada', 'de', 'game', 'of', 'thrones'], ['rt', 'sitevolts', 'vídeos', 'copilam', 'trajetória', 'de', 'jon', 'snow', 'em', 'game', 'of', 'thrones', 'https', 't.co', 'fa2aqchhpp', 'https', 't.co', 'a4h4vwzxuw'], ['rt', 'escorpiao165', '“não', 'podemos', 'escolher', 'quem', 'amamos.”', '—', 'game', 'of', 'thrones'], ['não', 'tinha', 'visto', 'esta', 'aparição', 'da', 'elen', 'degeneres', 'em', 'game', 'of', 'thrones', 'https', 't.co', 'o4xzpuvbr1', 'ri', 'alto', 'aqui.'], ['saiu', 'já', 'sabem', 'o', 'q', 'fazer', 'né.', 'game', 'of', 'thrones', 'ta', 'acabando', 't_t', '|final', 'de', 'temporada', 't7', 'https', 't.co', 'jy8pkkh0zk'], ['tava', 'de', 'boa', 'aqui', 'no', 'shopping..', 'do', 'nada', 'começa', 'a', 'tocar', 'a', 'música', 'de', 'game', 'of', 'thrones', 'deu', 'vontade', 'de', 'chorar', 'em', 'pensar', 'que', 'vai', 'ser', 'só', 'em', '2019', '😓'], ['gostei', 'de', 'um', 'vídeo', 'youtube', 'https', 't.co', 'g3bccndwj6', 'do', 'game', 'of', 'thrones'], ['veio', 'essa', 'nova', 'temp', 'de', 'game', 'of', 'thrones', 'ta', 'demais', 'mt', 'louca'], ['rt', 'patriciakogut', 'game', 'of', 'thrones', 'o', 'luto', 'mais', 'prolongado', 'da', 'história', 'da', 'tv', 'https', 't.co', '7fhsylxgm1', 'https', 't.co', 'eyss49ujxx'], ['gostei', 'de', 'um', 'vídeo', 'youtube', 'https', 't.co', 'ysztoqfrbwétima', 'temporada', 'de', 'game', 'of', 'thrones', '|', 'live', 'mikarol', 'ft', 'flávia', 'gasi'], ['rt', 'desencaixados', '“não', 'podemos', 'escolher', 'quem', 'amamos.”', '—', 'game', 'of', 'thrones'], ['rt', 'escorpiao165', '“não', 'podemos', 'escolher', 'quem', 'amamos.”', '—', 'game', 'of', 'thrones'], ['chegou', 'no', 'nível', 'que', 'ver', 'gente', 'falando', 'mal', 'de', 'game', 'of', 'thrones', 'me', 'interessa', 'mais', 'que', 'game', 'of', 'thrones'], ['rt', 'omelete', 'daenerys', 'poderá', 'engravidar', 'de', 'novo', 'ou', 'não', 'em', 'game', 'of', 'thrones', 'https', 't.co', '77loehdkbh', 'https', 't.co', 'i9trhvdlzt'], ['rt', 'papelpop', 'essa', 'vovó', 'vestida', 'de', 'olenna', 'tyrell', 'é', 'a', 'melhor', 'cosplay', 'de', '“game', 'of', 'thrones”', 'https', 't.co', 'jibs14ljn0', 'https', 't.co', '6sae6uwkgy'], ['a', 'mente', 'precisa', 'de', 'livros', 'como', 'uma', 'espada', 'precisa', 'de', 'uma', 'pedra', 'de', 'amolar', 'para', 'manter', 'a', 'sua', 'vantagem.', '—', 'game', 'of', 'thrones'], ['game', 'of', 'thrones', 'volta', 'logo', 'já', 'tô', 'morrendo', 'de', 'saudades', '😭', 'https', 't.co', '4pvhpuuccf'], ['rt', 'poeticou', 'algumas', 'velhas', 'feridas', 'nunca', 'se', 'curam', 'realmente', 'e', 'sangram', 'novamente', 'a', 'menor', 'palavra.', '—', 'game', 'of', 'thrones'], ['rt', 'desencaixados', '“não', 'podemos', 'escolher', 'quem', 'amamos.”', '—', 'game', 'of', 'thrones'], ['gostei', 'de', 'um', 'vídeo', 'youtube', 'https', 't.co', 'vzf3omys8e', 'snow', 'e', 'os', 'aegons', 'targaryens', 'de', 'westeros', '|', 'game', 'of', 'thrones'], ['valdir_furtado', 'aqui', 'ate', 'pesquisam', 'pela', 'a', 'dama', 'do', 'game', 'of', 'thrones', 'kkk'], ['que', 'séries', 'tu', 'gosta', '—', 'as', 'que', 'eu', 'tenho', 'visto', 'é', 'game', 'of', 'thrones', 'e', 'lúcifer', 'https', 't.co', 'ylxjpuu3ji'], ['gostei', 'de', 'um', 'vídeo', 'youtube', 'https', 't.co', 'ilsty1s2ghétima', 'temporada', 'de', 'game', 'of', 'thrones', '|', 'live', 'mikarol', 'ft', 'flávia', 'gasi'], ['gostei', 'de', 'um', 'vídeo', 'youtube', 'https', 't.co', 'wibjkf8g1eétima', 'temporada', 'de', 'game', 'of', 'thrones', '|', 'live', 'mikarol', 'ft', 'flávia', 'gasi'], ['game', 'of', 'thrones', '–', 'vídeo', 'mostra', 'como', 'os', 'efeitos', 'especiais', 'do', 'exército', 'dos', 'mortos…', 'https', 't.co', '88kdd4tvt7', 'https', 't.co', 'ti4d85edqt'], ['rt', 'calango', 'nem', 'assisto', 'game', 'of', 'thrones', 'mas', 'acho', 'a', 'musica', 'da', 'abertura', 'muito', 'foda'], ['rt', 'nicolasmalcher', 'quando', 'se', 'trata', 'de', 'game', 'of', 'thrones', 'eu', 'sou', '100%', 'esse', 'cãozinho', 'https', 't.co', 'ohcehh1c3k'], ['rt', 'phsantos', 'game', 'of', 'thrones', 'há', 'vida', 'além', 'da', 'série', 'https', 't.co', 'ehxmmptca3'], ['vi', 'o', 'primeiro', 'episódio', 'de', 'game', 'of', 'thrones', '❤'], ['game', 'of', 'thrones', 'o', 'luto', 'mais', 'prolongado', 'da', 'história', 'da', 'tv', 'https', 't.co', 'nry1zrkkr2', 'via', 'patriciakogut'], ['game', 'of', 'thrones', 'é', 'bom'], ['gostei', 'de', 'um', 'vídeo', 'youtube', 'https', 't.co', 'vnkpdetrzy', 'se', 'a', 'sétima', 'temporada', 'de', 'game', 'of', 'thrones', 'fosse', 'na', 'bahia', 'ep.7x01'], ['andre_llucas', 'mas', 'vão', 'ser', '3', 'apresentações.', '1', 'sobre', 'produção', 'de', 'conteudo', 'uma', 'sobre', 'e', 'sports', 'e', 'uma', 'sobre', 'game', 'of', 'thrones'], ['sétima', 'temporada', 'de', 'game', 'of', 'thrones', '|', 'live', 'mikarol', 'ft', 'flávia', 'gasi', 'https', 't.co', 'nimdrfyzxu', 'via', 'youtube'], ['desde', 'que', 'acabei', 'game', 'of', 'thrones', 'que', 'não', 'vi', 'mais', 'nenhuma', 'série'], ['eu', 'entendo', 'que', 'gosto', 'é', 'que', 'nem', 'cu', 'e', 'tal', 'mas', 'a', 'pessoa', 'dizer', 'que', 'game', 'of', 'thrones', 'é', 'uma', 'série', 'bosta', 'gente', 'pfvr...'], ['gostei', 'de', 'um', 'vídeo', 'youtube', 'https', 't.co', 'kszszf3nbaétima', 'temporada', 'de', 'game', 'of', 'thrones', '|', 'live', 'mikarol', 'ft', 'flávia', 'gasi'], ['marquei', 'a', 'temporada', '7', 'de', 'game', 'of', 'thrones', 'https', 't.co', 'hqn6suiyw4', 'como', 'vista', 'bancodeseries'], ['alguem', 'me', 'da', 'esse', 'livro', 'por', 'favô', 'https', 't.co', 'lfdo1rcamr'], ['rt', 'desencaixados', '“não', 'podemos', 'escolher', 'quem', 'amamos.”', '—', 'game', 'of', 'thrones'], ['rt', 'escorpiao165', '“não', 'podemos', 'escolher', 'quem', 'amamos.”', '—', 'game', 'of', 'thrones'], ['defenitivamente', 'estou', 'a', 'curtir', 'bué', 'game', 'of', 'thrones'], ['uma', 'rede', 'neural', 'está', 'escrevendo', 'o', 'próximo', 'livro', 'de', 'game', 'of', 'thrones', 'https', 't.co', 'uogai3tnl6', 'inteligênciaartificial', 'got'], ['rt', 'amora_fachada', 'ja', 'tenho', 'o', 'jogo', 'do', 'game', 'of', 'thrones', 'de', 'tabuleiro', 'brutal'], ['rt', 'marciorcm', 'gostei', 'de', 'um', 'vídeo', 'youtube', 'https', 't.co', '3pcj21qidjé', 'assim', 'que', 'os', 'personagens', 'de', 'game', 'of', 'thrones', 'deveriam', 'ser', '|', 'coxinha', 'nerd'], ['um', 'breve', 'comentário', 'atrasado', 'sobre', 'o', 'último', 'ep', 'de', 'game', 'of', 'thrones', 'a', 'primeira', 'lição', 'dada', 'por', 'ned', 'stark', 'é', 'que...', 'https', 't.co', 'rhcye6oest'], ['rt', 'marciorcm', 'gostei', 'de', 'um', 'vídeo', 'youtube', 'https', 't.co', 'thdswccubg', 'deixou', 'o', 'rei', 'aerys', 'louco', '|', 'game', 'of', 'thrones'], ['acabei', 'de', 'descobrir', 'que', 'a', 'abertura', 'de', 'game', 'of', 'thrones', 'é', 'a', 'mesma', 'do', 'programa', 'de', 'rádio', 'de', 'um', 'jornalista', 'sic', 'daqui', 'de', 'natal'], ['leokitsune', 'acho', 'que', 'dá', 'uma', 'boa', 'fanfic', 'de', 'game', 'of', 'thrones.'], ['rt', 'escorpiao165', '“não', 'podemos', 'escolher', 'quem', 'amamos.”', '—', 'game', 'of', 'thrones'], ['pq', 'baixar', 'game', 'of', 'thrones', 'é', 'igual', 'a', 'receber', 'milhões', 'de', 'reais', 'em', 'propina', '🤔🤔🤔', 'https', 't.co', '5hdezavbej'], ['rt', 'marciorcm', 'gostei', 'de', 'um', 'vídeo', 'youtube', 'https', 't.co', '5ijwzdlnrt', 'snow', 'e', 'a', 'muralha', 'em', 'game', 'of', 'thrones', 's07e07', '|', 'discussão', 'do', 'episódio'], ['sempre', 'com', 'jon', 'no', 'centro', 'mas', 'com', 'outra', 'protagonista', 'https', 't.co', 'sqghasqh3w'], ['por', 'que', 'não', 'tem', 'game', 'of', 'thrones', 'na', 'netflix', 'hd', 'https', 't.co', 'aghhwrsstn', 'via', 'youtube'], ['gostei', 'de', 'um', 'vídeo', 'youtube', 'https', 't.co', 'xcyfscyke8étima', 'temporada', 'de', 'game', 'of', 'thrones', '|', 'live', 'mikarol', 'ft', 'flávia', 'gasi'], ['atribuí', 'nota', '9.5', 'ao', 'episódio', '2x10', 'valar', 'morghulis', 'de', 'game', 'of', 'thrones', 'https', 't.co', 'qg4wbw0gzb', 'bancodeseries'], ['gostei', 'de', 'um', 'vídeo', 'youtube', 'https', 't.co', 'bffg9v1pna', 'makeover', 'cadeiras', 'geeks', 'montandomeuapê06', 'star', 'wars', '&amp;', 'game', 'of', 'thrones'], ['amandacaroamigo', 'e', 'o', 'game', 'of', 'thrones', 'vc', 'nao', 'gosta'], ['séries', 'para', 'assistir', 'enquanto', 'game', 'of', 'thrones', 'não', 'volta', 'https', 't.co', 'uumttagvdo', 'https', 't.co', 'bypye7iats'], ['rt', 'poeticou', 'o', 'riso', 'é', 'um', 'veneno', 'para', 'o', 'medo.', '—', 'game', 'of', 'thrones'], ['rt', 'desencaixados', '“não', 'podemos', 'escolher', 'quem', 'amamos.”', '—', 'game', 'of', 'thrones'], ['um', 'caso', 'de', 'amor', 'e', 'ódio', 'com', 'game', 'of', 'thrones'], ['estou', 'aceitando', 'uma', 'capa', 'de', 'game', 'of', 'thrones', 'para', 'um', 'moto', 'g5...só', 'avisando', 'mesmo', 'assim', 'se', 'pah', 'só', 'enviar', 'para', 'minha', 'caixa', 'postal', 'kkkkkkkkkk'], ['rt', 'cinefama', 'bastidores', 'do', 'último', 'episódio', 'da', '7ª', 'temporada', 'de', 'game', 'of', 'thrones.', 'https', 't.co', 'wfoeupnpld'], ['rt', 'infinitswar', 'vamo', 'ver', 'game', 'of', 'thrones', 'de', 'novo', 'e', 'de', 'novo', 'e', 'de', 'novo', 'ate', '2019'], ['rt', 'escorpiao165', '“não', 'podemos', 'escolher', 'quem', 'amamos.”', '—', 'game', 'of', 'thrones'], ['saudades', 'de', 'game', 'of', 'thrones', 'veja', 'um', 'pouco', 'de', 'bastidores', 'https', 't.co', 'clnsknrjn7', 'https', 't.co', 'd0qkl7wemc'], ['rt', 'marciorcm', 'gostei', 'de', 'um', 'vídeo', 'youtube', 'https', 't.co', '2xiura5qgsétima', 'temporada', 'de', 'game', 'of', 'thrones', '|', 'live', 'mikarol', 'ft', 'flávia', 'gasi'], ['gameofthrones', 'temproada', '6', 'https', 't.co', 'ipkmw8re0h'], ['só', 'queria', 'dizer', 'por', 'meio', 'desse', 'tweet', 'que', 'game', 'of', 'thrones', 'é', 'bom', 'demais'], ['gostei', 'de', 'um', 'vídeo', 'youtube', 'https', 't.co', 'c81jrq4uvoétima', 'temporada', 'de', 'game', 'of', 'thrones', '|', 'live', 'mikarol', 'ft', 'flávia', 'gasi'], ['rt', 'papofuradopod', 'e', 'que', 'tal', 'tomar', 'um', 'café', 'da', 'manhã', 'ouvindo', 'as', 'teorias', 'mais', 'loucas', 'sobre', 'game', 'of', 'thrones', 'afinal', 'de', 'quem', 'os', 'white', 'walkers…'], ['rt', 'escorpiao165', '“não', 'podemos', 'escolher', 'quem', 'amamos.”', '—', 'game', 'of', 'thrones'], ['gostei', 'de', 'um', 'vídeo', 'youtube', 'https', 't.co', 'kc4kjltbqe', 'vs', 'sandor', 'clegane', '|', 'game', 'of', 'thrones', '4x10', 'dublado'], ['gostei', 'de', 'um', 'vídeo', 'youtube', 'https', 't.co', 'zdni5v0r3l]', 'o', 'julgamento', 'de', 'game', 'of', 'thrones', 'ft.', 'ricardorente'], ['gostei', 'de', 'um', 'vídeo', 'youtube', 'https', 't.co', 'zmeeix9m5fétima', 'temporada', 'de', 'game', 'of', 'thrones', '|', 'live', 'mikarol', 'ft', 'flávia', 'gasi'], ['rt', 'escorpiao165', '“não', 'podemos', 'escolher', 'quem', 'amamos.”', '—', 'game', 'of', 'thrones'], ['gostei', 'de', 'um', 'vídeo', 'youtube', 'https', 't.co', '6mblttezpj]', 'o', 'julgamento', 'de', 'game', 'of', 'thrones', 'ft.', 'ricardorente'], ['ja', 'tenho', 'o', 'jogo', 'do', 'game', 'of', 'thrones', 'de', 'tabuleiro', 'brutal'], ['minha', 'programação', 'pra', 'quinta', 'é', 'ver', 'game', 'of', 'thrones', 'o', 'dia', 'inteiro', 'porque', 'eu', 'não', 'terei', 'nada', 'pra', 'fazer', 'não', 'tem', 'nenhum', 'rockzinho', 'então', 'é', 'série'], ['acho', 'que', 'vou', 'tomar', 'o', 'pequeno', 'almoço', 'e', 'vou', 'continuar', 'a', 'ver', 'game', 'of', 'thrones'], ['rt', 'escorpiao165', '“não', 'podemos', 'escolher', 'quem', 'amamos.”', '—', 'game', 'of', 'thrones'], ['daenerys', 'poderá', 'engravidar', 'de', 'novo', 'ou', 'não', 'em', 'game', 'of', 'thrones', 'https', 't.co', 'rmilh1w8yv', 'https', 't.co', 'ie5rooukll'], ['rt', 'golem_13', 'gameofthrones', 'rencontre', 'tim', 'burton', 'https', 't.co', 'rcptqfaxt5', 'https', 't.co', 'kqymcr5uvb'], ['gostei', 'de', 'um', 'vídeo', 'youtube', 'https', 't.co', '7amsjhlc9e', 'gêmeas', 'nerds', 'escolher', 'game', 'of', 'thrones', 'para', 'comentar'], ['rt', 'gfiuza_oficial', 'game', 'of', 'thrones', 'acabou', 'mas', 'toda', 'semana', 'temos', 'ana', 'paula', 'destronando', 'geral', 'os', 'canastrões.', 'https', 't.co', 'rclo6valxp'], ['rt', 'alvesrafa11', 'game', 'of', 'thrones', 'é', 'a', 'melhor', 'serie', 'mds'], ['qual', 'o', 'melhor', 'personagem', 'de', 'game', 'of', 'thrones', 'e', 'por', 'que', 'é', 'o', 'sam'], ['rt', 'oradioatividade', 'chegou', 'um', 'corvo', 'aqui', 'hoje', 'cedo', 'falando', 'que', 'tem', 'episódio', 'sobre', 'gameofthrones', 'no', 'ar', 'ouça', 'já', 'https', 't.co', 'fveibbocvx', 'h…'], ['vers�o', 'brasileira', 'da', 'abertura', 'de', 'game', 'of', 'thrones', 'https', 't.co', 'ai0mtkwezo'], ['rt', 'estalagemnerd', 'no', 'ar', 'game', 'of', 'thrones', 'nesse', 'episódio', 'dragões', 'white', 'walkers', 'dragões', 'intrigas', 'dragões', 'dragões', 'com', 'laser', 'sexo', 'c…'], ['rt', 'escorpiao165', '“não', 'podemos', 'escolher', 'quem', 'amamos.”', '—', 'game', 'of', 'thrones'], ['tive', 'um', 'sonho', 'tão', 'doido', 'essa', 'noite', 'uma', 'parada', 'meio', 'game', 'of', 'thrones...'], ['5', 'séries', 'para', 'quem', 'está', 'se', 'sentindo', 'órfão', 'de', 'game', 'of', 'thrones', 'https', 't.co', 'jr4mud8kbc', 'https', 't.co', 'wjupghjpzc']]\n",
      "3563\n"
     ]
    }
   ],
   "source": [
    "from pandas import *\n",
    "\n",
    "def prob(li_frase,li_lista):\n",
    "    total_pal = 0\n",
    "    for item in range(0,len(li_lista)):\n",
    "        total_pal += len(li_lista[item])\n",
    "    \n",
    "    for palavra in li_frase:\n",
    "        contador = 0\n",
    "        \n",
    "        for frase in li_lista:\n",
    "            for palavrinha in frase:\n",
    "                if palavrinha == palavra:\n",
    "                    contador += 1\n",
    "        \n",
    "        exec(str(palavra)+'_prob = '+str(contador/total_pal))\n",
    "        \n",
    "        \n",
    "        \n",
    "\n",
    "a = Got.loc[Got.Relevância==\"Relevante\",['Treinamento']]\n",
    "\n",
    "total_pal_rel = 0\n",
    "\n",
    "lista_frases = a[\"Treinamento\"].tolist()\n",
    "Relevantes = [item.split() for item in lista_frases]\n",
    "\n",
    "for item in range(0,len(Relevantes)):\n",
    "    total_pal_rel += len(Relevantes[item])\n",
    "\n",
    "print(Relevantes)\n",
    "print(total_pal_rel)"
   ]
  },
  {
   "cell_type": "markdown",
   "metadata": {},
   "source": [
    "___-\n",
    "## Verificando a performance\n",
    "\n",
    "Agora você deve testar o seu Classificador com a base de Testes.<br /><br /> \n",
    "\n",
    "Você deve extrair as seguintes medidas:\n",
    "* Porcentagem de positivos falsos (marcados como relevante mas não são relevantes)\n",
    "* Porcentagem de positivos verdadeiros (marcado como relevante e são relevantes)\n",
    "* Porcentagem de negativos verdadeiros (marcado como não relevante e não são relevantes)\n",
    "* Porcentagem de negativos falsos (marcado como não relevante e são relevantes)\n",
    "\n",
    "Opcionalmente:\n",
    "* Criar categorias intermediárias de relevância baseado na diferença de probabilidades. Exemplo: muito relevante, relevante, neutro, irrelevante e muito irrelevante."
   ]
  },
  {
   "cell_type": "code",
   "execution_count": null,
   "metadata": {
    "collapsed": true,
    "scrolled": true
   },
   "outputs": [],
   "source": []
  },
  {
   "cell_type": "markdown",
   "metadata": {
    "collapsed": true
   },
   "source": [
    "___\n",
    "## Concluindo\n",
    "\n",
    "Escreva aqui a sua conclusão.<br /> \n",
    "Faça um comparativo qualitativo sobre as medidas obtidas.<br />\n",
    "Explique como são tratadas as mensagens com dupla negação e sarcasmo.<br />\n",
    "Proponha um plano de expansão. Por que eles devem continuar financiando o seu projeto?<br />\n",
    "\n",
    "Opcionalmente: \n",
    "* Discorrer por que não posso alimentar minha base de Treinamento automaticamente usando o próprio classificador, aplicado a novos tweets.\n",
    "* Propor diferentes cenários de uso para o classificador Naive-Bayes. Cenários sem intersecção com este projeto.\n",
    "* Sugerir e explicar melhorias reais no classificador com indicações concretas de como implementar (não é preciso codificar, mas indicar como fazer e material de pesquisa sobre o assunto).\n"
   ]
  },
  {
   "cell_type": "code",
   "execution_count": null,
   "metadata": {
    "collapsed": true
   },
   "outputs": [],
   "source": []
  }
 ],
 "metadata": {
  "kernelspec": {
   "display_name": "Python 3",
   "language": "python",
   "name": "python3"
  },
  "language_info": {
   "codemirror_mode": {
    "name": "ipython",
    "version": 3
   },
   "file_extension": ".py",
   "mimetype": "text/x-python",
   "name": "python",
   "nbconvert_exporter": "python",
   "pygments_lexer": "ipython3",
   "version": "3.6.1"
  }
 },
 "nbformat": 4,
 "nbformat_minor": 1
}
