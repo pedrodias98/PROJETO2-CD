{
 "cells": [
  {
   "cell_type": "markdown",
   "metadata": {},
   "source": [
    "# Projeto 2 - Classificador Automático de Sentimento\n",
    "\n",
    "Você foi contratado por uma empresa parar analisar como os clientes estão reagindo a um determinado produto no Twitter. A empresa deseja que você crie um programa que irá analisar as mensagens disponíveis e classificará como \"relevante\" ou \"irrelevante\". Com isso ela deseja que mensagens negativas, que denigrem o nome do produto, ou que mereçam destaque, disparem um foco de atenção da área de marketing.<br /><br />\n",
    "Como aluno de Ciência dos Dados, você lembrou do Teorema de Bayes, mais especificamente do Classificador Naive-Bayes, que é largamente utilizado em filtros anti-spam de e-mails. O classificador permite calcular qual a probabilidade de uma mensagem ser relevante dadas as palavras em seu conteúdo.<br /><br />\n",
    "Para realizar o MVP (*minimum viable product*) do projeto, você precisa implementar uma versão do classificador que \"aprende\" o que é relevante com uma base de treinamento e compara a performance dos resultados com uma base de testes.<br /><br />\n",
    "Após validado, o seu protótipo poderá também capturar e classificar automaticamente as mensagens da plataforma.\n",
    "\n",
    "## Informações do Projeto\n",
    "\n",
    "Prazo: 13/Set até às 23:59.<br />\n",
    "Grupo: 1 ou 2 pessoas.<br /><br />\n",
    "Entregáveis via GitHub: \n",
    "* Arquivo notebook com o código do classificador, seguindo as orientações abaixo.\n",
    "* Arquivo Excel com as bases de treinamento e teste totalmente classificado.\n",
    "\n",
    "**NÃO disponibilizar o arquivo com os *access keys/tokens* do Twitter.**\n",
    "\n",
    "\n",
    "### Check 3: \n",
    "\n",
    "Até o dia 06 de Setembro às 23:59, o notebook e o xlsx devem estar no Github com as seguintes evidências: \n",
    "    * Conta no twitter criada.\n",
    "    * Produto escolhido.\n",
    "    * Arquivo Excel contendo a base de treinamento e teste já classificado.\n",
    "\n",
    "Sugestão de leitura:<br />\n",
    "http://docs.tweepy.org/en/v3.5.0/index.html<br />\n",
    "https://monkeylearn.com/blog/practical-explanation-naive-bayes-classifier/"
   ]
  },
  {
   "cell_type": "markdown",
   "metadata": {},
   "source": [
    "___\n",
    "\n",
    "## Preparando o ambiente\n",
    "\n",
    "Instalando a biblioteca *tweepy* para realizar a conexão com o Twitter:"
   ]
  },
  {
   "cell_type": "code",
   "execution_count": 1,
   "metadata": {
    "collapsed": true
   },
   "outputs": [],
   "source": [
    "%%capture\n",
    "\n",
    "#Instalando o tweepy\n",
    "!pip install tweepy"
   ]
  },
  {
   "cell_type": "markdown",
   "metadata": {},
   "source": [
    "Importando as Bibliotecas que serão utilizadas. Esteja livre para adicionar outras."
   ]
  },
  {
   "cell_type": "code",
   "execution_count": 2,
   "metadata": {
    "collapsed": true
   },
   "outputs": [],
   "source": [
    "import tweepy\n",
    "import math\n",
    "import os.path\n",
    "import pandas as pd\n",
    "import json\n",
    "from random import shuffle"
   ]
  },
  {
   "cell_type": "markdown",
   "metadata": {},
   "source": [
    "___\n",
    "## Autenticando no  Twitter\n",
    "\n",
    "Para realizar a captura dos dados é necessário ter uma conta cadastrada no twitter:\n",
    "\n",
    "* Conta: ***@MongoStrobil***\n",
    "\n",
    "\n",
    "1. Caso ainda não tenha uma: https://twitter.com/signup\n",
    "1. Depois é necessário registrar um app para usar a biblioteca: https://apps.twitter.com/\n",
    "1. Dentro do registro do App, na aba Keys and Access Tokens, anotar os seguintes campos:\n",
    "    1. Consumer Key (API Key): vtqB0NkNxZDKfQrTePLiRyibs\n",
    "    1. Consumer Secret (API Secret): RfaASnTNAEPP8V81PTtKNwLH1SzSpYXuVEiPNZMEjnu1CoOvtE\n",
    "1. Mais abaixo, gere um Token e anote também:\n",
    "    1. Access Token: 905108217595822080GaArhSqsnTiHg0BEjJbnRdnDebVi7qx\n",
    "    1. Access Token Secret: ED7G6dt1dqHvxNgxrf5J9yFuUBoGiQ5cYNwoScFfiCe3b\n",
    "    \n",
    "1. Preencha os valores no arquivo \"auth.pass\"\n",
    "\n",
    "**ATENÇÃO**: Nunca divulgue os dados desse arquivo online (GitHub, etc). Ele contém as chaves necessárias para realizar as operações no twitter de forma automática e portanto é equivalente a ser \"hackeado\". De posse desses dados, pessoas mal intencionadas podem fazer todas as operações manuais (tweetar, seguir, bloquear/desbloquear, listar os seguidores, etc). Para efeito do projeto, esse arquivo não precisa ser entregue!!!"
   ]
  },
  {
   "cell_type": "code",
   "execution_count": 3,
   "metadata": {
    "collapsed": true
   },
   "outputs": [],
   "source": [
    "#Dados de autenticação do twitter:\n",
    "\n",
    "#Coloque aqui o identificador da conta no twitter: @fulano\n",
    "\n",
    "#leitura do arquivo no formato JSON\n",
    "with open('auth.pass') as fp:    \n",
    "    data = json.load(fp)\n",
    "\n",
    "#Configurando a biblioteca. Não modificar\n",
    "auth = tweepy.OAuthHandler(data['consumer_key'], data['consumer_secret'])\n",
    "auth.set_access_token(data['access_token'], data['access_token_secret'])"
   ]
  },
  {
   "cell_type": "markdown",
   "metadata": {},
   "source": [
    "___\n",
    "## Coletando Dados\n",
    "\n",
    "Agora vamos coletar os dados. Tenha em mente que dependendo do produto escolhido, não haverá uma quantidade significativa de mensagens, ou ainda poder haver muitos retweets.<br /><br /> \n",
    "Configurando:"
   ]
  },
  {
   "cell_type": "code",
   "execution_count": 4,
   "metadata": {
    "collapsed": true
   },
   "outputs": [],
   "source": [
    "#Produto escolhido:\n",
    "produto = 'game of thrones'\n",
    "\n",
    "#Quantidade mínima de mensagens capturadas:\n",
    "n = 500\n",
    "#Quantidade mínima de mensagens para a base de treinamento:\n",
    "t = 300\n",
    "\n",
    "#Filtro de língua, escolha uma na tabela ISO 639-1.\n",
    "lang = 'pt'"
   ]
  },
  {
   "cell_type": "markdown",
   "metadata": {},
   "source": [
    "Capturando os dados do twitter:"
   ]
  },
  {
   "cell_type": "code",
   "execution_count": 5,
   "metadata": {
    "collapsed": true
   },
   "outputs": [],
   "source": [
    "#Cria um objeto para a captura\n",
    "api = tweepy.API(auth)\n",
    "\n",
    "#Inicia a captura, para mais detalhes: ver a documentação do tweepy\n",
    "i = 1\n",
    "msgs = []\n",
    "for msg in tweepy.Cursor(api.search, q=produto, lang=lang).items():    \n",
    "    msgs.append(msg.text.lower())\n",
    "    i += 1\n",
    "    if i > n:\n",
    "        break\n",
    "\n",
    "#Embaralhando as mensagens para reduzir um possível viés\n",
    "shuffle(msgs)"
   ]
  },
  {
   "cell_type": "markdown",
   "metadata": {},
   "source": [
    "Salvando os dados em uma planilha Excel:"
   ]
  },
  {
   "cell_type": "code",
   "execution_count": 6,
   "metadata": {
    "collapsed": true
   },
   "outputs": [],
   "source": [
    "#Verifica se o arquivo não existe para não substituir um conjunto pronto\n",
    "if not os.path.isfile('./{0}.xlsx'.format(produto)):\n",
    "    \n",
    "    #Abre o arquivo para escrita\n",
    "    writer = pd.ExcelWriter('{0}.xlsx'.format(produto))\n",
    "\n",
    "    #divide o conjunto de mensagens em duas planilhas\n",
    "    dft = pd.DataFrame({'Treinamento' : pd.Series(msgs[:t])})\n",
    "    dft.to_excel(excel_writer = writer, sheet_name = 'Treinamento', index = False)\n",
    "\n",
    "    dfc = pd.DataFrame({'Teste' : pd.Series(msgs[t:])})\n",
    "    dfc.to_excel(excel_writer = writer, sheet_name = 'Teste', index = False)\n",
    "\n",
    "    #fecha o arquivo\n",
    "    writer.save()"
   ]
  },
  {
   "cell_type": "code",
   "execution_count": 3,
   "metadata": {
    "collapsed": true
   },
   "outputs": [],
   "source": [
    "Got = pd.read_excel(\"Game of Thrones.xlsx\", encode=\"UTF-8\")"
   ]
  },
  {
   "cell_type": "markdown",
   "metadata": {},
   "source": [
    "___\n",
    "## Classificando as Mensagens\n",
    "\n",
    "Agora você deve abrir o arquivo Excel com as mensagens capturadas e classificar na Coluna B se a mensagem é relevante ou não.<br /> \n",
    "Não se esqueça de colocar um nome para a coluna na célula **B1**.<br /><br />\n",
    "Fazer o mesmo na planilha de Controle.\n",
    "\n",
    "___\n",
    "## Montando o Classificador Naive-Bayes\n",
    "\n",
    "Com a base de treinamento montada, comece a desenvolver o classificador. Escreva o seu código abaixo:\n",
    "\n",
    "Opcionalmente: \n",
    "* Limpar as mensagens removendo os caracteres: enter, :, \", ', (, ), etc. Não remover emojis.<br />\n",
    "* Corrigir separação de espaços entre palavras e/ou emojis.\n",
    "* Propor outras limpezas/transformações que não afetem a qualidade da informação.\n",
    "\n"
   ]
  },
  {
   "cell_type": "code",
   "execution_count": 19,
   "metadata": {
    "collapsed": true
   },
   "outputs": [],
   "source": [
    "no_char = [\"\\n\",\".\",\",\",\":\",'\"',\"'\",'(',')',',','+','/','-','@','!','?','#','0','1','2','3','4','5','6','7','8','9']\n",
    "for e in range(0,300):\n",
    "    sub = Got.Treinamento[e]\n",
    "    for char in no_char:\n",
    "        sub = sub.replace(char, ' ')\n",
    "    sub = sub.split()\n",
    "    sub = \" \".join(sub)\n",
    "    Got.Treinamento[e] = sub\n",
    "    \n",
    "df_total = Got.Treinamento\n",
    "df_relevante = Got[Got[\"Unnamed: 1\"] == \"R\"].Treinamento\n",
    "df_irelevante = Got[Got[\"Unnamed: 1\"] == \"I\"].Treinamento\n",
    "\n",
    "lista_df = [df_total,df_relevante,df_irelevante]\n",
    "total_pal = []\n",
    "sets_pal = []\n",
    "#     username = df_total[0].split()[1]\n",
    "\n",
    "for dataf in lista_df:\n",
    "    soma_pal = 0\n",
    "    set_pal = {}\n",
    "    for tweet in dataf:\n",
    "        soma_pal += len(tweet.split()) #tweet, sem contar o nome do usuario e o \"rt\"\n",
    "\n",
    "        for palavra in tweet.split():\n",
    "            if palavra not in set_pal:\n",
    "                set_pal[palavra] = 1\n",
    "            else:\n",
    "                set_pal[palavra] += 1\n",
    "    sets_pal.append(set_pal)\n",
    "    total_pal.append(soma_pal)\n",
    "\n",
    "set_count_total = len(sets_pal[0])\n",
    "\n",
    "\n",
    "\n",
    "\n"
   ]
  },
  {
   "cell_type": "code",
   "execution_count": 20,
   "metadata": {
    "collapsed": true
   },
   "outputs": [],
   "source": [
    "def relev(tweet):\n",
    "    prob_cond_pal_rel = 1\n",
    "    prob_cond_pal_irel = 1\n",
    "    for palavra in tweet.split():\n",
    "        try:\n",
    "            prob_cond_pal_rel = prob_cond_pal_rel*((sets_pal[1][palavra] + 1)/(total_pal[1] + set_count_total))\n",
    "        except KeyError:\n",
    "            prob_cond_pal_rel = prob_cond_pal_rel*(1/(total_pal[1] + set_count_total))\n",
    "            \n",
    "        try:\n",
    "            prob_cond_pal_irel = prob_cond_pal_irel*((sets_pal[2][palavra] + 1)/(total_pal[2] + set_count_total))\n",
    "        except KeyError:\n",
    "                prob_cond_pal_irel = prob_cond_pal_irel*(1/(total_pal[2] + set_count_total))\n",
    "    \n",
    "    if prob_cond_pal_rel > prob_cond_pal_irel:\n",
    "        lista_testando.append(\"R\")\n",
    "    if prob_cond_pal_rel < prob_cond_pal_irel:\n",
    "        lista_testando.append(\"I\")\n",
    "    "
   ]
  },
  {
   "cell_type": "markdown",
   "metadata": {},
   "source": [
    "___\n",
    "## Verificando a performance\n",
    "\n",
    "Agora você deve testar o seu Classificador com a base de Testes.<br /><br /> \n",
    "\n",
    "Você deve extrair as seguintes medidas:\n",
    "* Porcentagem de positivos falsos (marcados como relevante mas não são relevantes)\n",
    "* Porcentagem de positivos verdadeiros (marcado como relevante e são relevantes)\n",
    "* Porcentagem de negativos verdadeiros (marcado como não relevante e não são relevantes)\n",
    "* Porcentagem de negativos falsos (marcado como não relevante e são relevantes)\n",
    "\n",
    "Opcionalmente:\n",
    "* Criar categorias intermediárias de relevância baseado na diferença de probabilidades. Exemplo: muito relevante, relevante, neutro, irrelevante e muito irrelevante."
   ]
  },
  {
   "cell_type": "code",
   "execution_count": 21,
   "metadata": {},
   "outputs": [
    {
     "name": "stdout",
     "output_type": "stream",
     "text": [
      "positivos verdadeiros  = 45.0\n",
      "positivos falsos       = 2.5\n",
      "negativos verdadeiros  = 17.5\n",
      "negativos falsos       = 35.0\n"
     ]
    }
   ],
   "source": [
    "planilha_teste = pd.read_excel(\"Game of Thrones.xlsx\", sheetname = \"Teste\", encode=\"UTF-8\")\n",
    "lista_testando = []\n",
    "for tweet in planilha_teste.Teste:\n",
    "    relev(tweet)\n",
    "    \n",
    "pos_ver = 0\n",
    "pos_falso = 0\n",
    "neg_ver = 0\n",
    "neg_falso = 0\n",
    "\n",
    "# Porcentagem de positivos falsos (marcados como relevante mas não são relevantes)\n",
    "# Porcentagem de positivos verdadeiros (marcado como relevante e são relevantes)\n",
    "# Porcentagem de negativos verdadeiros (marcado como não relevante e não são relevantes)\n",
    "# Porcentagem de negativos falsos (marcado como não relevante e são relevantes)\n",
    "\n",
    "for valor in range(0,200):\n",
    "    if lista_testando[valor] == \"R\" and planilha_teste[\"Unnamed: 1\"][valor] == \"R\":\n",
    "        pos_ver += 1\n",
    "    elif lista_testando[valor] == \"R\" and planilha_teste[\"Unnamed: 1\"][valor] != \"R\":\n",
    "        pos_falso += 1\n",
    "    elif lista_testando[valor] != \"R\" and planilha_teste[\"Unnamed: 1\"][valor] != \"R\":\n",
    "        neg_ver += 1\n",
    "    elif lista_testando[valor] != \"R\" and planilha_teste[\"Unnamed: 1\"][valor] == \"R\":\n",
    "        neg_falso += 1\n",
    "    \n",
    "print(\"positivos verdadeiros  = \" + str(pos_ver/2))\n",
    "print(\"positivos falsos       = \" + str(pos_falso/2))\n",
    "print(\"negativos verdadeiros  = \" + str(neg_ver/2))\n",
    "print(\"negativos falsos       = \" + str(neg_falso/2))\n",
    "\n",
    "\n"
   ]
  },
  {
   "cell_type": "code",
   "execution_count": 22,
   "metadata": {},
   "outputs": [
    {
     "name": "stdout",
     "output_type": "stream",
     "text": [
      "Dados Reais\n",
      "R    160\n",
      "I     40\n",
      "Name: Unnamed: 1, dtype: int64\n",
      "Dados Programa\n",
      "R verdadeiros  = 90\n",
      "R falsos       = 5\n",
      "I verdadeiros  = 35\n",
      "I falsos       = 70\n"
     ]
    }
   ],
   "source": [
    "print(\"Dados Reais\")\n",
    "print(planilha_teste[\"Unnamed: 1\"].value_counts())\n",
    "\n",
    "print(\"Dados Programa\")\n",
    "print(\"R verdadeiros  = \" + str(pos_ver))\n",
    "print(\"R falsos       = \" + str(pos_falso))\n",
    "print(\"I verdadeiros  = \" + str(neg_ver))\n",
    "print(\"I falsos       = \" + str(neg_falso))"
   ]
  },
  {
   "cell_type": "markdown",
   "metadata": {
    "collapsed": true
   },
   "source": [
    "___\n",
    "## Concluindo\n",
    "\n",
    "Escreva aqui a sua conclusão.<br /> \n",
    "Faça um comparativo qualitativo sobre as medidas obtidas.<br />\n",
    "Explique como são tratadas as mensagens com dupla negação e sarcasmo.<br />\n",
    "Proponha um plano de expansão. Por que eles devem continuar financiando o seu projeto?<br />\n",
    "\n",
    "Opcionalmente: \n",
    "* Discorrer por que não posso alimentar minha base de Treinamento automaticamente usando o próprio classificador, aplicado a novos tweets.\n",
    "* Propor diferentes cenários de uso para o classificador Naive-Bayes. Cenários sem intersecção com este projeto.\n",
    "* Sugerir e explicar melhorias reais no classificador com indicações concretas de como implementar (não é preciso codificar, mas indicar como fazer e material de pesquisa sobre o assunto).\n"
   ]
  },
  {
   "cell_type": "markdown",
   "metadata": {},
   "source": [
    "Apartir dos dados apresentados concluímos a classificação realizada pelo côdigo não é perfeita, já tivemos uma perda de dados irrelevantes, 12.5% (5 em 40) que passaram a ser relevantes, além de 70 de 160 (43.75%) dos dados relevantes passarem a ser classificados como Irrelevantes. Ou seja, enquanto nossa mostra real tem 160 relevantes e 40 irrelevantes, nosso côdigo marca 95 relevantes e 105 irrelevantes. Nossa hipótese seria de que isso ocorre pelo fato de existirem tweets sarcásticos, em que não são interpretadas as aspas, que falam o oposto do que realmente querem falar, ou duplas negações, que surtem o mesmo efeito, sendo assim atraplham a classificação.\n",
    "\n",
    "    \n",
    "Mesmo não prevendo tais erros temos planos de expansão do progrma para as pessoas que não gostam ou mal avaliam, mas para isso precisamos avaliar melhor o côdigo, ou seja modificá-lo, para considerarem tais obstácu-los na infomação, por exemplo: \"não\" e \"não\" seguidos = \"sim\". Dessa forma parece que o financiamento não valeu a pena, entranto nosso cenário não é ruium, mesmo avendo esses erros de classificação obtivemos um bom resultado, um acerto de 62.5% em nossa classificação, ou seja, das 200, 125 palavras foram classificadas corretamente."
   ]
  }
 ],
 "metadata": {
  "kernelspec": {
   "display_name": "Python 3",
   "language": "python",
   "name": "python3"
  },
  "language_info": {
   "codemirror_mode": {
    "name": "ipython",
    "version": 3
   },
   "file_extension": ".py",
   "mimetype": "text/x-python",
   "name": "python",
   "nbconvert_exporter": "python",
   "pygments_lexer": "ipython3",
   "version": "3.6.1"
  }
 },
 "nbformat": 4,
 "nbformat_minor": 1
}
